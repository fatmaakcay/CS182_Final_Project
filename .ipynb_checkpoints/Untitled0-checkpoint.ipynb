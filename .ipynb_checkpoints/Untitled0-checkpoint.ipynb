{
 "metadata": {
  "name": "",
  "signature": "sha256:9fe0baec90ea032258e69f07e6214e1f747a2f8ed67213521e969dba96d7a8b6"
 },
 "nbformat": 3,
 "nbformat_minor": 0,
 "worksheets": []
}